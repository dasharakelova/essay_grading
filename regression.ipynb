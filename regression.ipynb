{
  "nbformat": 4,
  "nbformat_minor": 0,
  "metadata": {
    "colab": {
      "provenance": [],
      "authorship_tag": "ABX9TyNvk+ATB0pHEi01GPeedQxO",
      "include_colab_link": true
    },
    "kernelspec": {
      "name": "python3",
      "display_name": "Python 3"
    },
    "language_info": {
      "name": "python"
    }
  },
  "cells": [
    {
      "cell_type": "markdown",
      "metadata": {
        "id": "view-in-github",
        "colab_type": "text"
      },
      "source": [
        "<a href=\"https://colab.research.google.com/github/dasharakelova/essay_grading/blob/main/regression.ipynb\" target=\"_parent\"><img src=\"https://colab.research.google.com/assets/colab-badge.svg\" alt=\"Open In Colab\"/></a>"
      ]
    },
    {
      "cell_type": "code",
      "execution_count": 26,
      "metadata": {
        "id": "Z1zvlhLsUc9R"
      },
      "outputs": [],
      "source": [
        "import matplotlib.pyplot as plt\n",
        "import numpy as np\n",
        "\n",
        "from sklearn import datasets, linear_model\n",
        "from sklearn.metrics import mean_squared_error, r2_score"
      ]
    },
    {
      "cell_type": "code",
      "source": [
        "import json\n",
        "with open('output.json') as cat_file:\n",
        "    data = json.load(cat_file)"
      ],
      "metadata": {
        "id": "HMZffF7XkIlz"
      },
      "execution_count": 27,
      "outputs": []
    },
    {
      "cell_type": "code",
      "source": [
        "n=0\n",
        "k =0\n",
        "for key, value in data.items():\n",
        "    n += value['score']\n",
        "    k += 1\n",
        "print(n/k)\n",
        "    # print(type(value['score']))"
      ],
      "metadata": {
        "colab": {
          "base_uri": "https://localhost:8080/"
        },
        "id": "fDBgbaxV96E2",
        "outputId": "83d98dff-b4a7-4dee-f9cd-6174e18c09fe"
      },
      "execution_count": 28,
      "outputs": [
        {
          "output_type": "stream",
          "name": "stdout",
          "text": [
            "18.75947180056769\n"
          ]
        }
      ]
    },
    {
      "cell_type": "code",
      "source": [
        "l_comma = []\n",
        "l_res = []\n",
        "l_word = []\n",
        "l_year = []\n",
        "l_probl = []\n",
        "l_o = []\n",
        "comma = 0\n",
        "for key, value in data.items():\n",
        "    comma = 0\n",
        "    word = 0\n",
        "    probl = 0\n",
        "    o =0\n",
        "    for i in range(len(value['text'])):\n",
        "        word += 1\n",
        "        if value['text'][i] == ',':\n",
        "            comma += 1\n",
        "        if value['text'][i] == 'п' and value['text'][i+1] == 'р' and value['text'][i+2] == 'о' and value['text'][i+3] == 'б' and value['text'][i+4] == 'л' and value['text'][i+5] == 'е' and value['text'][i+6] == 'м':\n",
        "            probl +=1\n",
        "        if value['text'][i] == 'ы':\n",
        "            o += 1\n",
        "    l_year.append(value['year'])\n",
        "    l_comma.append([comma])\n",
        "    l_res.append(value['score'])\n",
        "    l_word.append([word])\n",
        "    l_probl.append([probl])\n",
        "    l_o.append([o/n])\n",
        "\n",
        "nmp_comma = np.asarray(l_comma)\n",
        "# print(nmp_comma)\n",
        "nmp_res = np.asarray(l_res)\n",
        "nmp_word = np.asarray(l_word)\n",
        "nmp_year = np.asarray(l_year)\n",
        "nmp_probl = np.asarray(l_probl)\n",
        "print(len(nmp_probl), len(nmp_word))"
      ],
      "metadata": {
        "id": "ai4nZ393lc-u",
        "colab": {
          "base_uri": "https://localhost:8080/"
        },
        "outputId": "788f5462-ffc1-443d-e4a1-474094832a4b"
      },
      "execution_count": 35,
      "outputs": [
        {
          "output_type": "stream",
          "name": "stdout",
          "text": [
            "2701 2701\n"
          ]
        }
      ]
    },
    {
      "cell_type": "code",
      "source": [
        "for i in range(len(l_comma)):\n",
        "    l_comma[i].append(l_year[i])\n",
        "    l_comma[i].append(l_word[i][0])\n",
        "    l_comma[i].append(l_probl[i][0])\n",
        "    l_comma[i].append(l_o[i][0])"
      ],
      "metadata": {
        "id": "dFmjccJrYUK7"
      },
      "execution_count": 36,
      "outputs": []
    },
    {
      "cell_type": "code",
      "source": [
        "nmp = np.asarray(l_comma)\n",
        "print(nmp)"
      ],
      "metadata": {
        "colab": {
          "base_uri": "https://localhost:8080/"
        },
        "id": "JeTzD0mvarLu",
        "outputId": "dbd0f914-e761-4bd3-e250-e911c71aad99"
      },
      "execution_count": 37,
      "outputs": [
        {
          "output_type": "stream",
          "name": "stdout",
          "text": [
            "[[5.80000000e+01 2.02000000e+03 3.22800000e+03 2.00000000e+00\n",
            "  8.28903742e-04]\n",
            " [3.60000000e+01 2.02000000e+03 2.81700000e+03 1.00000000e+00\n",
            "  6.90753118e-04]\n",
            " [5.20000000e+01 2.01700000e+03 2.92700000e+03 1.00000000e+00\n",
            "  1.04599758e-03]\n",
            " ...\n",
            " [5.00000000e+01 2.01900000e+03 2.52100000e+03 1.00000000e+00\n",
            "  4.53923478e-04]\n",
            " [6.00000000e+01 2.02000000e+03 2.94700000e+03 3.00000000e+00\n",
            "  1.24335561e-03]\n",
            " [4.60000000e+01 2.01900000e+03 2.63000000e+03 2.00000000e+00\n",
            "  9.27582759e-04]]\n"
          ]
        }
      ]
    },
    {
      "cell_type": "code",
      "source": [
        "nmptrain = nmp[:-100]\n",
        "nmptest = nmp[-100:]\n",
        "\n",
        "# Split the targets into training/testing sets\n",
        "nmp_res_train = nmp_res[:-100]\n",
        "nmp_res_test = nmp_res[-100:]"
      ],
      "metadata": {
        "id": "uBDaf8f1HRHw"
      },
      "execution_count": 38,
      "outputs": []
    },
    {
      "cell_type": "code",
      "source": [
        "# print(nmp_res_test)"
      ],
      "metadata": {
        "id": "WdFOdCoLHwCr"
      },
      "execution_count": null,
      "outputs": []
    },
    {
      "cell_type": "code",
      "source": [
        "# print(nmptest)"
      ],
      "metadata": {
        "id": "jZfR7eQFbZ2u"
      },
      "execution_count": null,
      "outputs": []
    },
    {
      "cell_type": "code",
      "source": [
        "regr = linear_model.LinearRegression()\n",
        "\n",
        "# Train the model using the training sets\n",
        "regr.fit(nmptrain, nmp_res_train)\n",
        "\n",
        "# Make predictions using the testing set\n",
        "y_pred = regr.predict(nmptest)"
      ],
      "metadata": {
        "id": "09a8cCV6IR63"
      },
      "execution_count": 39,
      "outputs": []
    },
    {
      "cell_type": "code",
      "source": [
        "print(\"Coefficients: \\n\", regr.coef_)\n",
        "# The mean squared error\n",
        "print(\"Mean squared error: %.2f\" % mean_squared_error(nmp_res_test, y_pred))\n",
        "# The coefficient of determination: 1 is perfect prediction\n",
        "print(\"Coefficient of determination: %.2f\" % r2_score(nmp_res_test, y_pred))\n"
      ],
      "metadata": {
        "colab": {
          "base_uri": "https://localhost:8080/"
        },
        "id": "kIwrSaLQIbqD",
        "outputId": "e0f08f18-72f6-46d3-d10e-7903837492cb"
      },
      "execution_count": 40,
      "outputs": [
        {
          "output_type": "stream",
          "name": "stdout",
          "text": [
            "Coefficients: \n",
            " [ 6.38966494e-03  6.76729796e-01 -2.20100458e-04 -1.91598872e-02\n",
            " -2.58098158e+02]\n",
            "Mean squared error: 7.52\n",
            "Coefficient of determination: 0.02\n"
          ]
        }
      ]
    }
  ]
}